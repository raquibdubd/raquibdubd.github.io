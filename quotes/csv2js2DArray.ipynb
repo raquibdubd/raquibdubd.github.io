{
 "cells": [
  {
   "cell_type": "markdown",
   "id": "665e78a8-a3dc-4dd3-b478-ba8e3b56e226",
   "metadata": {},
   "source": [
    "# Install Basic Packages"
   ]
  },
  {
   "cell_type": "code",
   "execution_count": 3,
   "id": "4268ddb3-3a75-44c3-991c-416274019574",
   "metadata": {},
   "outputs": [],
   "source": []
  },
  {
   "cell_type": "code",
   "execution_count": 1,
   "id": "0b2dce95-32a7-4ed4-888a-30401ceb9d29",
   "metadata": {},
   "outputs": [],
   "source": [
    "import pandas as pd\n",
    "import json"
   ]
  },
  {
   "cell_type": "code",
   "execution_count": 40,
   "id": "848dd48a-8eec-4576-8fd8-a3e6b310e28e",
   "metadata": {},
   "outputs": [
    {
     "data": {
      "text/plain": [
       "[[1,\n",
       "  'Pure mathematics is, in its way, the poetry of logical ideas.',\n",
       "  'Albert Einstein, German theoretical physicist'],\n",
       " [2,\n",
       "  'As far as the laws of mathematics refer to reality, they are not certain, and as far as they are certain, they do not refer to reality.',\n",
       "  'Albert Einstein'],\n",
       " [3,\n",
       "  'Mathematics is the music of reason.',\n",
       "  ' James Joseph Sylvester, English mathematician'],\n",
       " [4,\n",
       "  'It is impossible to be a mathematician without being a poet in soul.',\n",
       "  'Sofia Kovalevskaya, Russian mathematician'],\n",
       " [5,\n",
       "  'A mathematician who is not also something of a poet will never be a complete mathematician.',\n",
       "  'Karl Weierstrass, German mathematician']]"
      ]
     },
     "execution_count": 40,
     "metadata": {},
     "output_type": "execute_result"
    }
   ],
   "source": [
    "data=pd.read_csv(\"quote.csv\")\n",
    "jj=data.values.tolist()\n",
    "jj"
   ]
  },
  {
   "cell_type": "code",
   "execution_count": 41,
   "id": "833c14fb-b2d6-4f78-b305-38bac39cdbe6",
   "metadata": {},
   "outputs": [
    {
     "name": "stdout",
     "output_type": "stream",
     "text": [
      "[[1, \"Pure mathematics is, in its way, the poetry of logical ideas.\", \"Albert Einstein, German theoretical physicist\"], [2, \"As far as the laws of mathematics refer to reality, they are not certain, and as far as they are certain, they do not refer to reality.\", \"Albert Einstein\"], [3, \"Mathematics is the music of reason.\", \" James Joseph Sylvester, English mathematician\"], [4, \"It is impossible to be a mathematician without being a poet in soul.\", \"Sofia Kovalevskaya, Russian mathematician\"], [5, \"A mathematician who is not also something of a poet will never be a complete mathematician.\", \"Karl Weierstrass, German mathematician\"]]\n"
     ]
    }
   ],
   "source": [
    "tt=json.dumps(jj)\n",
    "print(tt)"
   ]
  },
  {
   "cell_type": "code",
   "execution_count": 42,
   "id": "e3d322c5-1a72-4f90-8c6f-fc6cc7afa59c",
   "metadata": {},
   "outputs": [
    {
     "data": {
      "text/plain": [
       "'my=[[1, \"Pure mathematics is, in its way, the poetry of logical ideas.\", \"Albert Einstein, German theoretical physicist\"], [2, \"As far as the laws of mathematics refer to reality, they are not certain, and as far as they are certain, they do not refer to reality.\", \"Albert Einstein\"], [3, \"Mathematics is the music of reason.\", \" James Joseph Sylvester, English mathematician\"], [4, \"It is impossible to be a mathematician without being a poet in soul.\", \"Sofia Kovalevskaya, Russian mathematician\"], [5, \"A mathematician who is not also something of a poet will never be a complete mathematician.\", \"Karl Weierstrass, German mathematician\"]]'"
      ]
     },
     "execution_count": 42,
     "metadata": {},
     "output_type": "execute_result"
    }
   ],
   "source": [
    "zz='my='+str(tt)\n",
    "zz"
   ]
  },
  {
   "cell_type": "code",
   "execution_count": 43,
   "id": "c233a548-d689-4a09-ad42-4475e54dac26",
   "metadata": {},
   "outputs": [],
   "source": [
    "with open('quote.js', 'w') as file:\n",
    "    file.write(zz)"
   ]
  },
  {
   "cell_type": "code",
   "execution_count": null,
   "id": "ff95dbb1-0260-4ef1-859f-b347dab4cd8e",
   "metadata": {},
   "outputs": [],
   "source": []
  }
 ],
 "metadata": {
  "kernelspec": {
   "display_name": "Python 3 (ipykernel)",
   "language": "python",
   "name": "python3"
  },
  "language_info": {
   "codemirror_mode": {
    "name": "ipython",
    "version": 3
   },
   "file_extension": ".py",
   "mimetype": "text/x-python",
   "name": "python",
   "nbconvert_exporter": "python",
   "pygments_lexer": "ipython3",
   "version": "3.12.6"
  }
 },
 "nbformat": 4,
 "nbformat_minor": 5
}
