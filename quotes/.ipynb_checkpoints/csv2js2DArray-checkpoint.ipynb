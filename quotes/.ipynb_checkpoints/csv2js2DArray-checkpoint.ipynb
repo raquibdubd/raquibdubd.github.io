{
 "cells": [
  {
   "cell_type": "markdown",
   "id": "665e78a8-a3dc-4dd3-b478-ba8e3b56e226",
   "metadata": {},
   "source": [
    "# Install Basic Packages"
   ]
  },
  {
   "cell_type": "code",
   "execution_count": 3,
   "id": "4268ddb3-3a75-44c3-991c-416274019574",
   "metadata": {},
   "outputs": [],
   "source": [
    "# uncomment for installation if requited\n",
    "# pip install -r myneeds.txt"
   ]
  },
  {
   "cell_type": "code",
   "execution_count": 2,
   "id": "0b2dce95-32a7-4ed4-888a-30401ceb9d29",
   "metadata": {},
   "outputs": [],
   "source": [
    "import matplotlib.pyplot as plt"
   ]
  },
  {
   "cell_type": "code",
   "execution_count": null,
   "id": "15455f55-8255-4633-8f8d-7d28d6303120",
   "metadata": {},
   "outputs": [],
   "source": [
    "# In cmd or in Jupyterlab\n",
    "pip freeze > installed_packages.txt"
   ]
  },
  {
   "cell_type": "code",
   "execution_count": null,
   "id": "72e55231-70ac-4587-9be5-8ed4224e992f",
   "metadata": {},
   "outputs": [],
   "source": []
  }
 ],
 "metadata": {
  "kernelspec": {
   "display_name": "Python 3 (ipykernel)",
   "language": "python",
   "name": "python3"
  },
  "language_info": {
   "codemirror_mode": {
    "name": "ipython",
    "version": 3
   },
   "file_extension": ".py",
   "mimetype": "text/x-python",
   "name": "python",
   "nbconvert_exporter": "python",
   "pygments_lexer": "ipython3",
   "version": "3.12.6"
  }
 },
 "nbformat": 4,
 "nbformat_minor": 5
}
